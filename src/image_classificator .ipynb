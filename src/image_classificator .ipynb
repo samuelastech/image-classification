{
 "cells": [
  {
   "cell_type": "markdown",
   "id": "1ea51656-0316-47cc-b6c6-0296a8216328",
   "metadata": {},
   "source": [
    "# Introduction"
   ]
  },
  {
   "cell_type": "markdown",
   "id": "8b626294-6a90-4e70-a704-6231bb44ba6d",
   "metadata": {},
   "source": [
    "In machine learning, **binary classification** is a <u>some text</u> algorithm that categorizes images into one of two classes. You provide two datasets of images, a **label** for each one, and the algorithm will learn from it classifying both label in  0 or 1."
   ]
  },
  {
   "cell_type": "markdown",
   "id": "61832a0b-58c4-48c8-8b2a-7bdfd0d93300",
   "metadata": {},
   "source": [
    "Doubtless, binary classification is widely spread, and it does work well in many scenarios. But, what if I just want to be able to recognize one single image? To make it clear, consider the problem of determining whether a fingerprint exists in an image or not. You create a dataset with several of fingerprints you would like to train the model to recognize, but what about instances of \"Not Fingerprint\" images? Instances of \"Not Fingerprint\" are nearly infinite."
   ]
  },
  {
   "cell_type": "markdown",
   "id": "3e78aeeb-35a7-4374-8378-a20252f4a2df",
   "metadata": {},
   "source": [
    "To overcome this problem, we going to use *Convolutional Neural Networks(CNN)*"
   ]
  },
  {
   "cell_type": "markdown",
   "id": "14646094-5c8c-432e-8074-3f5282d604e9",
   "metadata": {
    "tags": []
   },
   "source": [
    "# Dataset"
   ]
  },
  {
   "cell_type": "markdown",
   "id": "b04a5ab7-f310-4995-add0-bd742f6defc6",
   "metadata": {},
   "source": [
    "The dataset is the original [NIST Special Database 4. NIST 8-Bit Gray Scale Images of Fingerprint Image Groups](https://www.nist.gov/publications/nist-special-database-4-nist-8-bit-gray-scale-images-fingerprint-image-groups). It is in the `filename.png` and `filename.txt`, this last contains information about the fingerprint, such as *gender* and *class*.\n",
    "\n",
    "There are 5 different fingerprint patterns, classes, namely:\n",
    "- Arch (A);\n",
    "- Left Loop (L);\n",
    "- Right Loop (R);\n",
    "- Tented Arch (T);\n",
    "- Whirl (W)."
   ]
  }
 ],
 "metadata": {
  "kernelspec": {
   "display_name": "Python 3 (ipykernel)",
   "language": "python",
   "name": "python3"
  },
  "language_info": {
   "codemirror_mode": {
    "name": "ipython",
    "version": 3
   },
   "file_extension": ".py",
   "mimetype": "text/x-python",
   "name": "python",
   "nbconvert_exporter": "python",
   "pygments_lexer": "ipython3",
   "version": "3.10.6"
  },
  "vscode": {
   "interpreter": {
    "hash": "916dbcbb3f70747c44a77c7bcd40155683ae19c65e1c03b4aa3499c5328201f1"
   }
  }
 },
 "nbformat": 4,
 "nbformat_minor": 5
}
