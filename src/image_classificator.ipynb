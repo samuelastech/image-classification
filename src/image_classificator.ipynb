{
 "cells": [
  {
   "cell_type": "markdown",
   "id": "1ea51656-0316-47cc-b6c6-0296a8216328",
   "metadata": {
    "tags": []
   },
   "source": [
    "# Introduction\n",
    "<hr/>"
   ]
  },
  {
   "cell_type": "markdown",
   "id": "8b626294-6a90-4e70-a704-6231bb44ba6d",
   "metadata": {},
   "source": [
    "In machine learning, **binary classification** is a <u>supervised</u> algorithm that categorizes images into one of two classes. You provide two datasets of images, a **label** for each one, and the algorithm will learn from it classifying both label in  0 or 1."
   ]
  },
  {
   "cell_type": "markdown",
   "id": "61832a0b-58c4-48c8-8b2a-7bdfd0d93300",
   "metadata": {},
   "source": [
    "Doubtless, binary classification is widely spread, and it does work well in many scenarios. But, what if I just want to be able to recognize one single image? To make it clear, consider the problem of determining whether a fingerprint exists in an image or not. You create a dataset with several of fingerprints you would like to train the model to recognize, but what about instances of \"Not Fingerprint\" images? Instances of \"Not Fingerprint\" are nearly infinite."
   ]
  },
  {
   "cell_type": "markdown",
   "id": "3e78aeeb-35a7-4374-8378-a20252f4a2df",
   "metadata": {},
   "source": [
    "To overcome this problem, we going to use *Convolutional Neural Networks(CNN)*"
   ]
  },
  {
   "cell_type": "markdown",
   "id": "14646094-5c8c-432e-8074-3f5282d604e9",
   "metadata": {
    "tags": []
   },
   "source": [
    "# Dataset\n",
    "<hr>"
   ]
  },
  {
   "cell_type": "markdown",
   "id": "b04a5ab7-f310-4995-add0-bd742f6defc6",
   "metadata": {},
   "source": [
    "The dataset is the original [NIST Special Database 4. NIST 8-Bit Gray Scale Images of Fingerprint Image Groups](https://www.nist.gov/publications/nist-special-database-4-nist-8-bit-gray-scale-images-fingerprint-image-groups). It is in the `filename.png` and `filename.txt`, this last contains information about the fingerprint, such as *gender* and *class*.\n",
    "\n",
    "There are 5 different fingerprint patterns, classes, namely:\n",
    "- Arch (A);\n",
    "- Left Loop (L);\n",
    "- Right Loop (R);\n",
    "- Tented Arch (T);\n",
    "- Whirl (W)."
   ]
  },
  {
   "cell_type": "markdown",
   "id": "775daa65-a344-474d-8968-0a5113f6d62d",
   "metadata": {},
   "source": [
    "# Dependencies and setup\n",
    "<hr>"
   ]
  },
  {
   "cell_type": "code",
   "execution_count": 1,
   "id": "3c636ae4-0487-4421-9900-33a25788b289",
   "metadata": {},
   "outputs": [],
   "source": [
    "import os"
   ]
  },
  {
   "cell_type": "markdown",
   "id": "44d18869-9886-481a-b4e2-23050c7f6690",
   "metadata": {},
   "source": [
    "`os` is a built-in Python module that provides functions for interacting with the operating system, like creating and removing a directory (folder), fetching its contents, changing and identifying the current directory, etc."
   ]
  },
  {
   "cell_type": "code",
   "execution_count": 2,
   "id": "28bdcf13-661f-41dc-9556-ba8f93c50551",
   "metadata": {},
   "outputs": [],
   "source": [
    "import random"
   ]
  },
  {
   "cell_type": "markdown",
   "id": "c8f5a2b2-affe-4a02-af28-8c8ef64c7bc8",
   "metadata": {},
   "source": [
    "`random` is also a built-in Python module that provides pseudo-random number generators."
   ]
  },
  {
   "cell_type": "code",
   "execution_count": 4,
   "id": "278b8c20-4c66-4706-842e-7645e9190a88",
   "metadata": {},
   "outputs": [],
   "source": [
    "import cv2"
   ]
  },
  {
   "cell_type": "markdown",
   "id": "fc0b67fe-cfcd-4364-a948-76d437015a1b",
   "metadata": {},
   "source": [
    "`cv2` called *OpenCV*, is a huge open-source library for computer vision, machine learning, and image processing."
   ]
  },
  {
   "cell_type": "code",
   "execution_count": 6,
   "id": "5319bcbe-b1a2-42b5-afd0-c3aae3000827",
   "metadata": {},
   "outputs": [],
   "source": [
    "import numpy as np"
   ]
  },
  {
   "cell_type": "markdown",
   "id": "2c40083e-94af-4c88-b299-9078584123be",
   "metadata": {},
   "source": [
    "`numpy` is a module used for working with multidimensional arrays, as well as variations such as masks and matrices, which can be used for various math operations.\n",
    "\n",
    "\"But python doesn't have its own arrays? Why do people use numpy so much?\" you may ask. Quite simply, it’s faster than regular Python arrays. Another reason is that numpy arrays and operations are vectorized, which means they lack explicit looping or indexing in the code. This makes the code not only more readable but also more similar to standard mathematical notation. For two arrays A and B of the same size, if we wanted to do a vector multiplication in Python:\n",
    "\n",
    "```python\n",
    "c = []\n",
    "for i in range(len(a)):\n",
    "    c.append(a[i]*b[i])\n",
    "```\n",
    "\n",
    "In numpy, this can simply be done with the following line of code:\n",
    "\n",
    "```python\n",
    "c = a * b\n",
    "```\n",
    "Numpy makes many mathematical operations used widely in **scientific computing** fast and easy to use, such as: vector-vector multiplication; matrix-matrix and matrix-vector multiplication; element-wise operations on vectors and matrices (i.e., adding, subtracting, multiplying, and dividing by a number); element-wise or array-wise comparisons; applying functions element-wise to a vector/matrix (like pow, log, and exp); reduction, statistics, and much more.\n",
    "\n",
    "When speaking of a digital image, we are speaking of a matrix so numpy is extremely important for us."
   ]
  },
  {
   "cell_type": "code",
   "execution_count": 7,
   "id": "35cdbf38-e81f-4779-9f4f-35bf0483e4a7",
   "metadata": {},
   "outputs": [],
   "source": [
    "import pandas as pd"
   ]
  },
  {
   "cell_type": "markdown",
   "id": "ef625830-c81e-45bb-a2cb-1431e826c730",
   "metadata": {},
   "source": [
    "`pandas` is a open source module used to analyze and manipulating data."
   ]
  },
  {
   "cell_type": "code",
   "execution_count": 8,
   "id": "66d7914d-cccc-4be6-9117-a410a1cd8d7d",
   "metadata": {},
   "outputs": [],
   "source": [
    "import seaborn as sns\n",
    "import matplotlib.pyplot as plt"
   ]
  },
  {
   "cell_type": "markdown",
   "id": "43a99b57-9a6f-43b9-920d-80f28a1d3687",
   "metadata": {},
   "source": [
    "`seaborn` is a data visualization library based on `matplotlib`. It provides a high-level interface for plotting attractive and informative statistical graphics."
   ]
  },
  {
   "cell_type": "code",
   "execution_count": 9,
   "id": "9936bbb1-2db2-4070-bf8d-b96d5d552363",
   "metadata": {},
   "outputs": [],
   "source": [
    "from sklearn.model_selection import train_test_split"
   ]
  },
  {
   "cell_type": "markdown",
   "id": "7f4f17b3-de08-439c-ac8e-e7304b2b3a76",
   "metadata": {},
   "source": [
    "`sklearn` is probably the most useful library for machine learning in Python. It contains a lot of efficient tools for machine learning and statistical modeling including classification, regression, clustering and dimensionality reduction. Note that sklearn is used to build machine learning models. It should not be used for reading the data, manipulating and summarizing it. There are better libraries for that (e.g. NumPy, Pandas etc.)."
   ]
  },
  {
   "cell_type": "code",
   "execution_count": 13,
   "id": "daa2cb75-c49b-401b-9af1-5b2e926b0cb8",
   "metadata": {},
   "outputs": [],
   "source": [
    "from tensorflow import keras\n",
    "from tensorflow.keras import layers"
   ]
  },
  {
   "cell_type": "markdown",
   "id": "973167b4-add9-4394-9456-4f7445b2e0b5",
   "metadata": {},
   "source": [
    "`tensorflow` is an open source library for numerical computation that makes machine learning faster and easier. `keras` is on top of TensorFlow and is tightly integrated with it. Keras is a neural network API that is used to build machine learning models. `layers` are a set of 'neurons' of an artificial neural network."
   ]
  }
 ],
 "metadata": {
  "kernelspec": {
   "display_name": "Python 3 (ipykernel)",
   "language": "python",
   "name": "python3"
  },
  "language_info": {
   "codemirror_mode": {
    "name": "ipython",
    "version": 3
   },
   "file_extension": ".py",
   "mimetype": "text/x-python",
   "name": "python",
   "nbconvert_exporter": "python",
   "pygments_lexer": "ipython3",
   "version": "3.10.6"
  },
  "vscode": {
   "interpreter": {
    "hash": "916dbcbb3f70747c44a77c7bcd40155683ae19c65e1c03b4aa3499c5328201f1"
   }
  }
 },
 "nbformat": 4,
 "nbformat_minor": 5
}
